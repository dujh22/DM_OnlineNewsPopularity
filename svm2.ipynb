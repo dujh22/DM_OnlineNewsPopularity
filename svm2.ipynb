{
 "cells": [
  {
   "cell_type": "code",
   "execution_count": 10,
   "metadata": {},
   "outputs": [],
   "source": [
    "import time\n",
    "import numpy as np\n",
    "import pandas as pd\n",
    "import matplotlib.pyplot as plt\n",
    "from sklearn.model_selection import StratifiedKFold\n",
    "import sklearn.svm as svm\n",
    "from sklearn.model_selection import cross_validate, GridSearchCV\n",
    "from sklearn.model_selection import train_test_split\n",
    "from sklearn.metrics import confusion_matrix, accuracy_score, precision_score\n",
    "from sklearn.metrics import recall_score, f1_score, roc_auc_score\n",
    "from sklearn.pipeline import Pipeline\n",
    "from sklearn.preprocessing import StandardScaler\n",
    "import itertools"
   ]
  },
  {
   "cell_type": "code",
   "execution_count": 11,
   "metadata": {},
   "outputs": [],
   "source": [
    "### 导入数据\n",
    "df = pd.read_csv('./OnlineNewsPopularity/OnlineNewsPopularity.csv')\n",
    "keys = np.array(df.columns)\n",
    "dic = {}\n",
    "for colname in df:\n",
    "    arr = df.loc[:,colname].values\n",
    "    dic[colname] = arr\n",
    "dic[keys[-1]] = dic[keys[-1]] > 1400    # 将shares从数量值转化为布尔值\n",
    "\n",
    "# 构建数据集与标签集\n",
    "data_set = dic[keys[1]].reshape(-1,1)   # 数据集\n",
    "for i in range(2,len(keys)-1):\n",
    "    data_set = np.append(data_set, dic[keys[i]].reshape(-1,1), axis = 1)\n",
    "label_set = dic[keys[-1]]               # 标签集\n",
    "data_set = data_set[np.lexsort(-data_set.T[0, None])]\n",
    "\n",
    "# 数据集划分         \n",
    "x_train, x_test, y_train, y_test = train_test_split(data_set, label_set, test_size=0.3, shuffle= False)     # 训练集与测试集按照7：3比例划分\n",
    "xx_train, xx_val, yy_train, yy_val = train_test_split(x_train, y_train, test_size=0.2, shuffle= False)      # 训练集中取五分之一作为验证集，与5折交叉验证比例相同"
   ]
  },
  {
   "cell_type": "code",
   "execution_count": 3,
   "metadata": {},
   "outputs": [],
   "source": [
    "### 数据预处理\n",
    "## 分别对训练集、验证集和测试集进行数据标准化\n",
    "scaler = StandardScaler()     \n",
    "x_train = scaler.fit_transform(x_train)     # 完整训练集\n",
    "xx_train = scaler.fit_transform(xx_train)   # 除去验证集后的训练集\n",
    "xx_val = scaler.fit_transform(xx_val)       # 验证集\n",
    "x_test = scaler.fit_transform(x_test)       # 测试集"
   ]
  },
  {
   "cell_type": "code",
   "execution_count": 4,
   "metadata": {},
   "outputs": [],
   "source": [
    "## 依据Fisher准则进行特征选择\n",
    "# Fisher准则的基本原理：找到一个最合适的投影轴，使两类样本在该轴上投影之间的距离尽可能远，而每一类样本的投影尽可能紧凑，从而使分类效果为最佳。\n",
    "J_fisher = []\n",
    "feature_num = [5, 10, 20, 30, 50, xx_train.shape[1]]\n",
    "Model = svm.SVC(kernel='rbf', C=1, gamma=0.01)\n",
    "\n",
    "# 基于样本类别进行分类\n",
    "idx_0 = np.argwhere(yy_train == False)\n",
    "idx_1 = np.argwhere(yy_train == True)\n",
    "X_train_0 = np.mat(xx_train[idx_0])\n",
    "X_train_1 = np.mat(xx_train[idx_1])\n",
    "\n",
    "# 基于类内类间距离的判据计算每个特征的投影距离\n",
    "for i in range(xx_train.shape[1]):\n",
    "    mu_0 = np.mean(X_train_0[:,i])\n",
    "    mu_1 = np.mean(X_train_1[:,i])\n",
    "    sigma_0 = np.var(X_train_0[:,i])\n",
    "    sigma_1 = np.var(X_train_1[:,i])\n",
    "    J = (mu_0 - mu_1)**2/(sigma_0**2 + sigma_1**2)\n",
    "    J_fisher.append(J)"
   ]
  },
  {
   "cell_type": "code",
   "execution_count": 5,
   "metadata": {},
   "outputs": [
    {
     "name": "stdout",
     "output_type": "stream",
     "text": [
      "5 features, train acc： 0.5942792792792793\n",
      "5 features, val acc： 0.6117117117117117\n",
      "5 features index [17 40 15 37 26]\n",
      "10 features, train acc： 0.6145495495495495\n",
      "10 features, val acc： 0.6405405405405405\n",
      "10 features index [ 6 36 24 13 35 17 40 15 37 26]\n",
      "20 features, train acc： 0.6371621621621621\n",
      "20 features, val acc： 0.6643243243243243\n",
      "20 features index [27 39 18  5 29  3  2 42 16 43  6 36 24 13 35 17 40 15 37 26]\n",
      "30 features, train acc： 0.6472972972972973\n",
      "30 features, val acc： 0.6693693693693694\n",
      "30 features index [ 8 58 32 44 51 38  1 28 56 25 27 39 18  5 29  3  2 42 16 43  6 36 24 13\n",
      " 35 17 40 15 37 26]\n",
      "50 features, train acc： 0.6744144144144144\n",
      "50 features, val acc： 0.6733333333333333\n",
      "50 features index [57  9 30 47 19 49 33 12 10  0 55 48 53 50 41 20 14 45 31 22  8 58 32 44\n",
      " 51 38  1 28 56 25 27 39 18  5 29  3  2 42 16 43  6 36 24 13 35 17 40 15\n",
      " 37 26]\n",
      "59 features, train acc： 0.6845945945945946\n",
      "59 features, val acc： 0.6718918918918919\n",
      "59 features index [54 34 46 21  4 23 52 11  7 57  9 30 47 19 49 33 12 10  0 55 48 53 50 41\n",
      " 20 14 45 31 22  8 58 32 44 51 38  1 28 56 25 27 39 18  5 29  3  2 42 16\n",
      " 43  6 36 24 13 35 17 40 15 37 26]\n"
     ]
    }
   ],
   "source": [
    "# 根据目标特征数k选择距离最远的前k个特征进行学习\n",
    "for i in feature_num:\n",
    "    feature_f = []\n",
    "    J_f = np.argsort(J_fisher)\n",
    "    feature_f = J_f[-i:]\n",
    "\n",
    "    # 计算k个特征下的准确率\n",
    "    X_train_fselected = xx_train[:,feature_f]\n",
    "    X_test_fselected = xx_val[:,feature_f]\n",
    "    Model.fit(X_train_fselected, yy_train)\n",
    "    Y_pred_f_v = Model.predict(X_test_fselected)\n",
    "    Y_pred_f_t = Model.predict(X_train_fselected)\n",
    "    acc_f_v = accuracy_score(Y_pred_f_v, yy_val)\n",
    "    acc_f_t = accuracy_score(Y_pred_f_t, yy_train)\n",
    "\n",
    "    print(str(i),\"features, train acc：\", acc_f_t)\n",
    "    print(str(i),\"features, val acc：\", acc_f_v)\n",
    "    print(str(i),\"features index\",feature_f)"
   ]
  },
  {
   "cell_type": "code",
   "execution_count": 6,
   "metadata": {},
   "outputs": [],
   "source": [
    "# 依据验证结果选择特征\n",
    "feature = J_f[-50:]\n",
    "x_train = x_train[:,feature]\n",
    "x_test = x_test[:,feature]"
   ]
  },
  {
   "cell_type": "code",
   "execution_count": 12,
   "metadata": {},
   "outputs": [
    {
     "name": "stdout",
     "output_type": "stream",
     "text": [
      "Fitting 5 folds for each of 30 candidates, totalling 150 fits\n",
      "best params:  {'svm__C': 10, 'svm__gamma': 0.005}\n",
      "best score:  0.6525045045045046\n"
     ]
    }
   ],
   "source": [
    "### 模型训练与网格化参数搜索\n",
    "\n",
    "#k折分层抽样\n",
    "skf = StratifiedKFold(n_splits=5,shuffle=True,random_state=233)\n",
    "\n",
    "#实例化svm模型\n",
    "params = {'svm__gamma': [0.001, 0.005, 0.01, 0.005, 0.1, 1], 'svm__C': [1, 3, 5, 10, 20]}\n",
    "clf = Pipeline([('ss', StandardScaler()), ('svm', svm.SVC(kernel='rbf'))])\n",
    "scores = ('accuracy', 'precision', 'f1', 'recall', 'roc_auc')   #取五个参数作为评价指标\n",
    "gs = GridSearchCV(clf, params, refit= 'accuracy', verbose= 1, cv= skf, scoring= scores)\n",
    "gs.fit(x_train, y_train)\n",
    "print('best params: ',gs.best_params_)\n",
    "print('best score: ', gs.best_score_)"
   ]
  },
  {
   "cell_type": "code",
   "execution_count": 13,
   "metadata": {},
   "outputs": [],
   "source": [
    "# 保存网格化搜索结果\n",
    "np.save('./result/svm_cv_results_1218_30.npy', gs.cv_results_)  "
   ]
  },
  {
   "cell_type": "code",
   "execution_count": 14,
   "metadata": {},
   "outputs": [],
   "source": [
    "## 依次比较五项评价指标结果\n",
    "res = gs.cv_results_\n",
    "idx = {}"
   ]
  },
  {
   "cell_type": "code",
   "execution_count": 23,
   "metadata": {},
   "outputs": [
    {
     "name": "stdout",
     "output_type": "stream",
     "text": [
      "test_accuracy 0.6525045045045046\n",
      "{'svm__C': 10, 'svm__gamma': 0.005}\n",
      "test_precision 0.6525045045045046\n",
      "{'svm__C': 10, 'svm__gamma': 0.005}\n",
      "test_f1 0.5153873873873873\n",
      "{'svm__C': 3, 'svm__gamma': 1}\n",
      "test_recall 0.5134414414414414\n",
      "{'svm__C': 1, 'svm__gamma': 1}\n",
      "test_roc_auc 0.6516396396396396\n",
      "{'svm__C': 5, 'svm__gamma': 0.005}\n"
     ]
    }
   ],
   "source": [
    "# 按顺序执行五个代码块后再逆序执行一遍，可以获得全部结果\n",
    "key = 'test_accuracy'\n",
    "#print(res[\"mean_\" + key])\n",
    "idx[key] = np.argmax(res[\"mean_\" + key])\n",
    "# 打印每项指标中效果最好的一组参数在当前指标中的结果\n",
    "for k in idx:\n",
    "    print(k, res[\"mean_\" + key][idx[k]])        # 当前指标结果\n",
    "    print(gs.cv_results_['params'][idx[k]])     # 对应参数"
   ]
  },
  {
   "cell_type": "code",
   "execution_count": 22,
   "metadata": {},
   "outputs": [
    {
     "name": "stdout",
     "output_type": "stream",
     "text": [
      "test_accuracy 0.6650453460021435\n",
      "{'svm__C': 10, 'svm__gamma': 0.005}\n",
      "test_precision 0.6650453460021435\n",
      "{'svm__C': 10, 'svm__gamma': 0.005}\n",
      "test_f1 0.512605013045811\n",
      "{'svm__C': 3, 'svm__gamma': 1}\n",
      "test_recall 0.5115792584395792\n",
      "{'svm__C': 1, 'svm__gamma': 1}\n",
      "test_roc_auc 0.6607389350220124\n",
      "{'svm__C': 5, 'svm__gamma': 0.005}\n"
     ]
    }
   ],
   "source": [
    "# 比较结果\n",
    "key = 'test_precision'\n",
    "#print(res[\"mean_\" + key])\n",
    "idx[key] = np.argmax(res[\"mean_\" + key])\n",
    "for k in idx:\n",
    "    print(k, res[\"mean_\" + key][idx[k]])\n",
    "    print(gs.cv_results_['params'][idx[k]])"
   ]
  },
  {
   "cell_type": "code",
   "execution_count": 21,
   "metadata": {},
   "outputs": [
    {
     "name": "stdout",
     "output_type": "stream",
     "text": [
      "test_accuracy 0.6526755539607858\n",
      "{'svm__C': 10, 'svm__gamma': 0.005}\n",
      "test_precision 0.6526755539607858\n",
      "{'svm__C': 10, 'svm__gamma': 0.005}\n",
      "test_f1 0.6766532206481404\n",
      "{'svm__C': 3, 'svm__gamma': 1}\n",
      "test_recall 0.6761335312029316\n",
      "{'svm__C': 1, 'svm__gamma': 1}\n",
      "test_roc_auc 0.6554082825413031\n",
      "{'svm__C': 5, 'svm__gamma': 0.005}\n"
     ]
    }
   ],
   "source": [
    "# 比较结果\n",
    "key = 'test_f1'\n",
    "#print(res[\"mean_\" + key])\n",
    "idx[key] = np.argmax(res[\"mean_\" + key])\n",
    "for k in idx:\n",
    "    print(k, res[\"mean_\" + key][idx[k]])\n",
    "    print(gs.cv_results_['params'][idx[k]])"
   ]
  },
  {
   "cell_type": "code",
   "execution_count": 20,
   "metadata": {},
   "outputs": [
    {
     "name": "stdout",
     "output_type": "stream",
     "text": [
      "test_accuracy 0.6408062234794908\n",
      "{'svm__C': 10, 'svm__gamma': 0.005}\n",
      "test_precision 0.6408062234794908\n",
      "{'svm__C': 10, 'svm__gamma': 0.005}\n",
      "test_f1 0.9951202263083452\n",
      "{'svm__C': 3, 'svm__gamma': 1}\n",
      "test_recall 0.9967468175388967\n",
      "{'svm__C': 1, 'svm__gamma': 1}\n",
      "test_roc_auc 0.6502121640735503\n",
      "{'svm__C': 5, 'svm__gamma': 0.005}\n"
     ]
    }
   ],
   "source": [
    "# 比较结果\n",
    "key = 'test_recall'\n",
    "#print(res[\"mean_\" + key])\n",
    "idx[key] = np.argmax(res[\"mean_\" + key])\n",
    "for k in idx:\n",
    "    print(k, res[\"mean_\" + key][idx[k]])\n",
    "    print(gs.cv_results_['params'][idx[k]])"
   ]
  },
  {
   "cell_type": "code",
   "execution_count": 19,
   "metadata": {},
   "outputs": [
    {
     "name": "stdout",
     "output_type": "stream",
     "text": [
      "test_accuracy 0.7074996076809319\n",
      "{'svm__C': 10, 'svm__gamma': 0.005}\n",
      "test_precision 0.7074996076809319\n",
      "{'svm__C': 10, 'svm__gamma': 0.005}\n",
      "test_f1 0.5920154106047741\n",
      "{'svm__C': 3, 'svm__gamma': 1}\n",
      "test_recall 0.5920851966323954\n",
      "{'svm__C': 1, 'svm__gamma': 1}\n",
      "test_roc_auc 0.7080718479111476\n",
      "{'svm__C': 5, 'svm__gamma': 0.005}\n"
     ]
    }
   ],
   "source": [
    "# 比较结果\n",
    "key = 'test_roc_auc'\n",
    "#print(res[\"mean_\" + key])\n",
    "idx[key] = np.argmax(res[\"mean_\" + key])\n",
    "for k in idx:\n",
    "    print(k, res[\"mean_\" + key][idx[k]])\n",
    "    print(gs.cv_results_['params'][idx[k]])"
   ]
  },
  {
   "cell_type": "code",
   "execution_count": 7,
   "metadata": {},
   "outputs": [],
   "source": [
    "# 绘制混淆矩阵（直接调用）\n",
    "def plot_confusion_matrix(cm, labels_name, title):\n",
    "    '''\n",
    "    inputs:\n",
    "    cm: confusion_matrix result\n",
    "    labels_name: list, the label names draw on the plt\n",
    "    title: plt name\n",
    "\n",
    "    outputs:\n",
    "    show the visualization confusion matrix\n",
    "    '''\n",
    "    plt.figure(figsize=(15,8),dpi=100)\n",
    "    plt.subplot(1,2,1)\n",
    "    plt.imshow(cm,interpolation='nearest',cmap=plt.cm.Blues)    # 在特定的窗口上显示图像\n",
    "    plt.title(title)    # 图像标题\n",
    "    plt.colorbar()\n",
    "    num_local = np.array(range(len(labels_name)))    \n",
    "    plt.xticks(num_local, labels_name, rotation=90)    # 将标签印在x轴坐标上\n",
    "    plt.yticks(num_local, labels_name)    # 将标签印在y轴坐标上\n",
    "    thresh = cm.max() / 2.\n",
    "    for i, j in itertools.product(range(cm.shape[0]), range(cm.shape[1])):\n",
    "        num = '{}'.format(cm[i, j])\n",
    "        plt.text(j, i, num,\n",
    "                 verticalalignment='center',\n",
    "                 horizontalalignment=\"center\",\n",
    "                 color=\"white\" if int(num) > thresh else \"black\")\n",
    "    plt.ylabel('True label')    \n",
    "    plt.xlabel('Predicted label')\n",
    "\n",
    "    \n",
    "    plt.subplot(1,2,2)\n",
    "    cm = cm.astype('float') / cm.sum(axis=1)[:, np.newaxis]    # 归一化\n",
    "    plt.imshow(cm,interpolation='nearest',cmap=plt.cm.Blues)    # 在特定的窗口上显示图像\n",
    "    plt.title(title)    # 图像标题\n",
    "    plt.colorbar()\n",
    "    num_local = np.array(range(len(labels_name)))    \n",
    "    plt.xticks(num_local, labels_name, rotation=90)    # 将标签印在x轴坐标上\n",
    "    plt.yticks(num_local, labels_name)    # 将标签印在y轴坐标上\n",
    "    thresh = cm.max() / 2.\n",
    "    for i, j in itertools.product(range(cm.shape[0]), range(cm.shape[1])):\n",
    "        num = '{:.2f}'.format(cm[i, j])\n",
    "        plt.text(j, i, num,\n",
    "                 verticalalignment='center',\n",
    "                 horizontalalignment=\"center\",\n",
    "                 color=\"white\" if float(num) > thresh else \"black\")\n",
    "    plt.ylabel('True label')    \n",
    "    plt.xlabel('Predicted label')\n",
    "# 混淆矩阵绘制代码来源以下两篇博客：\n",
    "# https://blog.csdn.net/kane7csdn/article/details/83756583\n",
    "# https://blog.csdn.net/qq_18617009/article/details/103345308"
   ]
  },
  {
   "cell_type": "code",
   "execution_count": 8,
   "metadata": {},
   "outputs": [],
   "source": [
    "### 模型预测\n",
    "## {'svm__C': 1, 'svm__gamma': 0.01}\n",
    "model1 = svm.SVC(kernel='rbf', C=1, gamma=0.01)\n",
    "model1.fit(x_train, y_train)\n",
    "y_pred1 = model1.predict(x_test)"
   ]
  },
  {
   "cell_type": "code",
   "execution_count": null,
   "metadata": {},
   "outputs": [],
   "source": [
    "## {'svm__C': 5, 'svm__gamma': 0.01}\n",
    "model2 = svm.SVC(kernel='rbf', C=5, gamma=0.01)\n",
    "model2.fit(x_train, y_train)\n",
    "y_pred2 = model2.predict(x_test)"
   ]
  },
  {
   "cell_type": "code",
   "execution_count": 9,
   "metadata": {},
   "outputs": [
    {
     "data": {
      "image/png": "[encoded data removed]",
      "text/plain": [
       "<Figure size 1500x800 with 4 Axes>"
      ]
     },
     "metadata": {},
     "output_type": "display_data"
    },
    {
     "name": "stdout",
     "output_type": "stream",
     "text": [
      "acc: 0.6625189171010594\n",
      "pre: 0.6192411924119241\n",
      "recall: 0.6742899299151605\n",
      "f1: 0.6455942080169521\n",
      "AUCf1: 0.6634737659464554\n"
     ]
    }
   ],
   "source": [
    "## 绘制混淆矩阵\n",
    "# {'svm__C': 1, 'svm__gamma': 0.01}\n",
    "cm = confusion_matrix(y_test, y_pred1)\n",
    "labels_name = ['popular','unpopular']\n",
    "plot_confusion_matrix(cm, labels_name, \"Confusion Matrix Model 1\")\n",
    "plt.show()\n",
    "print(\"acc: \" + str(accuracy_score(y_test, y_pred1)))\n",
    "print(\"pre: \" + str(precision_score(y_test, y_pred1)))\n",
    "print(\"recall: \" + str(recall_score(y_test, y_pred1)))\n",
    "print(\"f1: \" + str(f1_score(y_test, y_pred1)))\n",
    "print(\"AUCf1: \" + str(roc_auc_score(y_test, y_pred1)))"
   ]
  },
  {
   "cell_type": "code",
   "execution_count": null,
   "metadata": {},
   "outputs": [
    {
     "data": {
      "image/png": "[encoded data removed]",
      "text/plain": [
       "<Figure size 1500x800 with 4 Axes>"
      ]
     },
     "metadata": {
      "needs_background": "light"
     },
     "output_type": "display_data"
    },
    {
     "name": "stdout",
     "output_type": "stream",
     "text": [
      "acc: 0.6589647866007466\n",
      "pre: 0.6564952048823016\n",
      "recall: 0.6254152823920266\n",
      "f1: 0.6405784772437261\n",
      "AUC: 0.6580462084187807\n"
     ]
    }
   ],
   "source": [
    "## 绘制混淆矩阵\n",
    "# {'svm__C': 5, 'svm__gamma': 0.01}\n",
    "cm = confusion_matrix(y_test, y_pred2)\n",
    "labels_name = ['popular','unpopular']\n",
    "plot_confusion_matrix(cm, labels_name, \"Confusion Matrix Model 1\")\n",
    "plt.show()\n",
    "print(\"acc: \" + str(accuracy_score(y_test, y_pred2)))\n",
    "print(\"pre: \" + str(precision_score(y_test, y_pred2)))\n",
    "print(\"recall: \" + str(recall_score(y_test, y_pred2)))\n",
    "print(\"f1: \" + str(f1_score(y_test, y_pred2)))\n",
    "print(\"AUC: \" + str(roc_auc_score(y_test, y_pred2)))"
   ]
  },
  {
   "cell_type": "code",
   "execution_count": null,
   "metadata": {},
   "outputs": [],
   "source": []
  }
 ],
 "metadata": {
  "kernelspec": {
   "display_name": "Python 3.8.13 ('jupyter')",
   "language": "python",
   "name": "python3"
  },
  "language_info": {
   "codemirror_mode": {
    "name": "ipython",
    "version": 3
   },
   "file_extension": ".py",
   "mimetype": "text/x-python",
   "name": "python",
   "nbconvert_exporter": "python",
   "pygments_lexer": "ipython3",
   "version": "3.8.15"
  },
  "orig_nbformat": 4,
  "vscode": {
   "interpreter": {
    "hash": "94186ee46dd20d9135eb93318a31c12944db0bab97754bb10895fc1a10cecd0e"
   }
  }
 },
 "nbformat": 4,
 "nbformat_minor": 2
}
