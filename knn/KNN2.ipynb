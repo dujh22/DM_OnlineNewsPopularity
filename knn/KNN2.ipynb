{
 "cells": [
  {
   "cell_type": "code",
   "execution_count": 1,
   "metadata": {},
   "outputs": [],
   "source": [
    "# -*- coding:utf-8 -*-\n",
    "import pandas as pd\n",
    "import matplotlib.pyplot as plt\n",
    "\n",
    "from sklearn.metrics import roc_auc_score\n",
    "\n",
    "import knn"
   ]
  },
  {
   "cell_type": "markdown",
   "metadata": {},
   "source": [
    "# 1.文件读取"
   ]
  },
  {
   "cell_type": "code",
   "execution_count": 2,
   "metadata": {},
   "outputs": [],
   "source": [
    "df = pd.read_csv('./OnlineNewsPopularity/OnlineNewsPopularity.csv', header=0) # header参数指定标题的行，默认为0.如果没有标题，则使用None"
   ]
  },
  {
   "cell_type": "code",
   "execution_count": 3,
   "metadata": {},
   "outputs": [
    {
     "name": "stdout",
     "output_type": "stream",
     "text": [
      "                                                 url   timedelta  \\\n",
      "0  http://mashable.com/2013/01/07/amazon-instant-...       731.0   \n",
      "1  http://mashable.com/2013/01/07/ap-samsung-spon...       731.0   \n",
      "2  http://mashable.com/2013/01/07/apple-40-billio...       731.0   \n",
      "3  http://mashable.com/2013/01/07/astronaut-notre...       731.0   \n",
      "4   http://mashable.com/2013/01/07/att-u-verse-apps/       731.0   \n",
      "\n",
      "    n_tokens_title   n_tokens_content   n_unique_tokens   n_non_stop_words  \\\n",
      "0             12.0              219.0          0.663594                1.0   \n",
      "1              9.0              255.0          0.604743                1.0   \n",
      "2              9.0              211.0          0.575130                1.0   \n",
      "3              9.0              531.0          0.503788                1.0   \n",
      "4             13.0             1072.0          0.415646                1.0   \n",
      "\n",
      "    n_non_stop_unique_tokens   num_hrefs   num_self_hrefs   num_imgs  ...  \\\n",
      "0                   0.815385         4.0              2.0        1.0  ...   \n",
      "1                   0.791946         3.0              1.0        1.0  ...   \n",
      "2                   0.663866         3.0              1.0        1.0  ...   \n",
      "3                   0.665635         9.0              0.0        1.0  ...   \n",
      "4                   0.540890        19.0             19.0       20.0  ...   \n",
      "\n",
      "    min_positive_polarity   max_positive_polarity   avg_negative_polarity  \\\n",
      "0                0.100000                     0.7               -0.350000   \n",
      "1                0.033333                     0.7               -0.118750   \n",
      "2                0.100000                     1.0               -0.466667   \n",
      "3                0.136364                     0.8               -0.369697   \n",
      "4                0.033333                     1.0               -0.220192   \n",
      "\n",
      "    min_negative_polarity   max_negative_polarity   title_subjectivity  \\\n",
      "0                  -0.600               -0.200000             0.500000   \n",
      "1                  -0.125               -0.100000             0.000000   \n",
      "2                  -0.800               -0.133333             0.000000   \n",
      "3                  -0.600               -0.166667             0.000000   \n",
      "4                  -0.500               -0.050000             0.454545   \n",
      "\n",
      "    title_sentiment_polarity   abs_title_subjectivity  \\\n",
      "0                  -0.187500                 0.000000   \n",
      "1                   0.000000                 0.500000   \n",
      "2                   0.000000                 0.500000   \n",
      "3                   0.000000                 0.500000   \n",
      "4                   0.136364                 0.045455   \n",
      "\n",
      "    abs_title_sentiment_polarity   shares  \n",
      "0                       0.187500      593  \n",
      "1                       0.000000      711  \n",
      "2                       0.000000     1500  \n",
      "3                       0.000000     1200  \n",
      "4                       0.136364      505  \n",
      "\n",
      "[5 rows x 61 columns]\n"
     ]
    }
   ],
   "source": [
    "print(df.head())"
   ]
  },
  {
   "cell_type": "code",
   "execution_count": 4,
   "metadata": {},
   "outputs": [
    {
     "data": {
      "text/plain": [
       "Index(['url', ' timedelta', ' n_tokens_title', ' n_tokens_content',\n",
       "       ' n_unique_tokens', ' n_non_stop_words', ' n_non_stop_unique_tokens',\n",
       "       ' num_hrefs', ' num_self_hrefs', ' num_imgs', ' num_videos',\n",
       "       ' average_token_length', ' num_keywords', ' data_channel_is_lifestyle',\n",
       "       ' data_channel_is_entertainment', ' data_channel_is_bus',\n",
       "       ' data_channel_is_socmed', ' data_channel_is_tech',\n",
       "       ' data_channel_is_world', ' kw_min_min', ' kw_max_min', ' kw_avg_min',\n",
       "       ' kw_min_max', ' kw_max_max', ' kw_avg_max', ' kw_min_avg',\n",
       "       ' kw_max_avg', ' kw_avg_avg', ' self_reference_min_shares',\n",
       "       ' self_reference_max_shares', ' self_reference_avg_sharess',\n",
       "       ' weekday_is_monday', ' weekday_is_tuesday', ' weekday_is_wednesday',\n",
       "       ' weekday_is_thursday', ' weekday_is_friday', ' weekday_is_saturday',\n",
       "       ' weekday_is_sunday', ' is_weekend', ' LDA_00', ' LDA_01', ' LDA_02',\n",
       "       ' LDA_03', ' LDA_04', ' global_subjectivity',\n",
       "       ' global_sentiment_polarity', ' global_rate_positive_words',\n",
       "       ' global_rate_negative_words', ' rate_positive_words',\n",
       "       ' rate_negative_words', ' avg_positive_polarity',\n",
       "       ' min_positive_polarity', ' max_positive_polarity',\n",
       "       ' avg_negative_polarity', ' min_negative_polarity',\n",
       "       ' max_negative_polarity', ' title_subjectivity',\n",
       "       ' title_sentiment_polarity', ' abs_title_subjectivity',\n",
       "       ' abs_title_sentiment_polarity', ' shares'],\n",
       "      dtype='object')"
      ]
     },
     "execution_count": 4,
     "metadata": {},
     "output_type": "execute_result"
    }
   ],
   "source": [
    "df.columns"
   ]
  },
  {
   "cell_type": "markdown",
   "metadata": {},
   "source": [
    "# 2.转化为二分类问题"
   ]
  },
  {
   "cell_type": "code",
   "execution_count": 5,
   "metadata": {},
   "outputs": [],
   "source": [
    "for i in range(len(df[' shares'])):\n",
    "    df.loc[i, ' shares'] = 0 if df[' shares'][i] < 1400 else 1"
   ]
  },
  {
   "cell_type": "markdown",
   "metadata": {},
   "source": [
    "# 3.数据预处理"
   ]
  },
  {
   "cell_type": "code",
   "execution_count": 6,
   "metadata": {},
   "outputs": [],
   "source": [
    "# 去掉前两列与预测无关的数据\n",
    "df = df.drop(\"url\", axis=1)\n",
    "df = df.drop(\" timedelta\", axis=1)"
   ]
  },
  {
   "cell_type": "code",
   "execution_count": 7,
   "metadata": {},
   "outputs": [
    {
     "name": "stdout",
     "output_type": "stream",
     "text": [
      "    n_tokens_title   n_tokens_content   n_unique_tokens   n_non_stop_words  \\\n",
      "0             12.0              219.0          0.663594                1.0   \n",
      "1              9.0              255.0          0.604743                1.0   \n",
      "2              9.0              211.0          0.575130                1.0   \n",
      "3              9.0              531.0          0.503788                1.0   \n",
      "4             13.0             1072.0          0.415646                1.0   \n",
      "\n",
      "    n_non_stop_unique_tokens   num_hrefs   num_self_hrefs   num_imgs  \\\n",
      "0                   0.815385         4.0              2.0        1.0   \n",
      "1                   0.791946         3.0              1.0        1.0   \n",
      "2                   0.663866         3.0              1.0        1.0   \n",
      "3                   0.665635         9.0              0.0        1.0   \n",
      "4                   0.540890        19.0             19.0       20.0   \n",
      "\n",
      "    num_videos   average_token_length  ...   min_positive_polarity  \\\n",
      "0          0.0               4.680365  ...                0.100000   \n",
      "1          0.0               4.913725  ...                0.033333   \n",
      "2          0.0               4.393365  ...                0.100000   \n",
      "3          0.0               4.404896  ...                0.136364   \n",
      "4          0.0               4.682836  ...                0.033333   \n",
      "\n",
      "    max_positive_polarity   avg_negative_polarity   min_negative_polarity  \\\n",
      "0                     0.7               -0.350000                  -0.600   \n",
      "1                     0.7               -0.118750                  -0.125   \n",
      "2                     1.0               -0.466667                  -0.800   \n",
      "3                     0.8               -0.369697                  -0.600   \n",
      "4                     1.0               -0.220192                  -0.500   \n",
      "\n",
      "    max_negative_polarity   title_subjectivity   title_sentiment_polarity  \\\n",
      "0               -0.200000             0.500000                  -0.187500   \n",
      "1               -0.100000             0.000000                   0.000000   \n",
      "2               -0.133333             0.000000                   0.000000   \n",
      "3               -0.166667             0.000000                   0.000000   \n",
      "4               -0.050000             0.454545                   0.136364   \n",
      "\n",
      "    abs_title_subjectivity   abs_title_sentiment_polarity   shares  \n",
      "0                 0.000000                       0.187500        0  \n",
      "1                 0.500000                       0.000000        0  \n",
      "2                 0.500000                       0.000000        1  \n",
      "3                 0.500000                       0.000000        0  \n",
      "4                 0.045455                       0.136364        0  \n",
      "\n",
      "[5 rows x 59 columns]\n"
     ]
    }
   ],
   "source": [
    "print(df.head())"
   ]
  },
  {
   "cell_type": "markdown",
   "metadata": {},
   "source": [
    "# 4.划分训练集与测试集"
   ]
  },
  {
   "cell_type": "code",
   "execution_count": 8,
   "metadata": {},
   "outputs": [],
   "source": [
    "# 分配训练集和测试集（由于原文件已经按照时间远近进行了排序，所以需要先划分，后打乱）\n",
    "rate = 0.7 # 7:3\n",
    "midi = round(len(df) * 0.7)\n",
    "df1 = df.iloc[:midi, :]\n",
    "df2 = df.iloc[midi:, :]\n",
    "\n",
    "# 打乱数据\n",
    "df1 = df1.sample(len(df1), random_state=0)\n",
    "df2 = df2.sample(len(df2), random_state=0)\n",
    "\n",
    "train_X = df1.iloc[:, :-1]\n",
    "train_y = df1.iloc[:,  -1]\n",
    "test_X  = df2.iloc[:, :-1]\n",
    "test_y  = df2.iloc[:,  -1]"
   ]
  },
  {
   "cell_type": "markdown",
   "metadata": {},
   "source": [
    "# 5. 数据归一化"
   ]
  },
  {
   "cell_type": "code",
   "execution_count": 9,
   "metadata": {},
   "outputs": [],
   "source": [
    "from sklearn.preprocessing import StandardScaler\n",
    "\n",
    "### 数据预处理\n",
    "## 分别对训练集、验证集和测试集进行数据标准化\n",
    "scaler = StandardScaler()\n",
    "train_X = scaler.fit_transform(train_X.squeeze())     # 训练集\n",
    "test_X = scaler.fit_transform(test_X.squeeze())       # 测试集"
   ]
  },
  {
   "cell_type": "markdown",
   "metadata": {},
   "source": [
    "# 6.训练与测试"
   ]
  },
  {
   "cell_type": "code",
   "execution_count": 10,
   "metadata": {},
   "outputs": [],
   "source": [
    "# 模型初始化\n",
    "knn_k = 6\n",
    "knn_model = knn.knn(knn_k)\n",
    "# 模型训练\n",
    "knn_model.fit(train_X, train_y)\n",
    "# 模型预测\n",
    "prey = knn_model.predict(test_X)"
   ]
  },
  {
   "cell_type": "code",
   "execution_count": 11,
   "metadata": {},
   "outputs": [
    {
     "name": "stdout",
     "output_type": "stream",
     "text": [
      "              0         1\n",
      "0        KNN中k值  6.000000\n",
      "1   准确率accuracy  0.607921\n",
      "2  精确率precision  0.644102\n",
      "3     召回率recall  0.479279\n",
      "4      F1-score  0.549599\n",
      "5           AUC  0.607694\n"
     ]
    }
   ],
   "source": [
    "# 模型评估\n",
    "TP = 0 # 正例被预测为正例\n",
    "FN = 0 # 正例被预测为反例\n",
    "FP = 0 # 反例被预测为正例\n",
    "TN = 0 # 反例被预测为反例\n",
    "temp_test_y = test_y.values # 从series转换为 n array\n",
    "# 统计\n",
    "for i in range(len(prey)):\n",
    "    if prey[i] == temp_test_y[i]:\n",
    "        if prey[i] == 1:\n",
    "            TP = TP + 1\n",
    "        else:\n",
    "            TN = TN + 1\n",
    "    else:\n",
    "        if prey[i] == 1:\n",
    "            FP = FP + 1\n",
    "        else:\n",
    "            FN = FN + 1\n",
    "accuracy = (TP + TN) / (TP + FP + TN + FN)\n",
    "precision = TP / (TP + FP)\n",
    "recall = TP / (TP + FN)\n",
    "F1_score = (2 * precision * recall) / (precision + recall)\n",
    "AUC = roc_auc_score(temp_test_y, prey)\n",
    "\n",
    "# 记录并打印\n",
    "result = [\n",
    "    ['KNN中k值', knn_k],\n",
    "    ['准确率accuracy', accuracy],\n",
    "    ['精确率precision', precision],\n",
    "    ['召回率recall', recall],\n",
    "    ['F1-score', F1_score],\n",
    "    ['AUC', AUC]\n",
    "]\n",
    "result_out = pd.DataFrame(result)\n",
    "print(result_out)"
   ]
  },
  {
   "cell_type": "markdown",
   "metadata": {},
   "source": [
    "# 7.K值的取得"
   ]
  },
  {
   "cell_type": "code",
   "execution_count": 12,
   "metadata": {},
   "outputs": [
    {
     "name": "stdout",
     "output_type": "stream",
     "text": [
      "当前进度：0.052632\n",
      "当前进度：0.105263\n",
      "当前进度：0.157895\n",
      "当前进度：0.210526\n",
      "当前进度：0.263158\n",
      "当前进度：0.315789\n",
      "当前进度：0.368421\n",
      "当前进度：0.421053\n",
      "当前进度：0.473684\n",
      "当前进度：0.526316\n",
      "当前进度：0.578947\n",
      "当前进度：0.631579\n",
      "当前进度：0.684211\n",
      "当前进度：0.736842\n",
      "当前进度：0.789474\n",
      "当前进度：0.842105\n",
      "当前进度：0.894737\n",
      "当前进度：0.947368\n",
      "当前进度：1.000000\n"
     ]
    },
    {
     "data": {
      "text/plain": [
       "[<matplotlib.lines.Line2D at 0x22ae8a2ad10>]"
      ]
     },
     "execution_count": 12,
     "metadata": {},
     "output_type": "execute_result"
    },
    {
     "data": {
      "image/png": "[encoded data removed]",
      "text/plain": [
       "<Figure size 640x480 with 1 Axes>"
      ]
     },
     "metadata": {},
     "output_type": "display_data"
    }
   ],
   "source": [
    "F1_score_group = []\n",
    "K_range = range(1, 20, 1)\n",
    "temp_test_y = test_y.values # 从series转换为 n array\n",
    "\n",
    "for kk in K_range:\n",
    "    knn_k = kk\n",
    "    knn_model = knn.knn(knn_k)\n",
    "    knn_model.fit(train_X, train_y)\n",
    "    prey = knn_model.predict(test_X)\n",
    "\n",
    "    TP = 0\n",
    "    FN = 0\n",
    "    FP = 0\n",
    "    TN = 0\n",
    "\n",
    "    for i in range(len(prey)):\n",
    "        if prey[i] == temp_test_y[i]:\n",
    "            if prey[i] == 1:\n",
    "                TP = TP + 1\n",
    "            else:\n",
    "                TN = TN + 1\n",
    "        else:\n",
    "            if prey[i] == 1:\n",
    "                FP = FP + 1\n",
    "            else:\n",
    "                FN = FN + 1\n",
    "    precision = TP / (TP + FP)\n",
    "    recall = TP / (TP + FN)\n",
    "    F1_score = (2 * precision * recall) / (precision + recall)\n",
    "\n",
    "    print(\"当前进度：%f\" %(kk / len(K_range)))\n",
    "    F1_score_group.append(F1_score)\n",
    "\n",
    "plt.plot(K_range, F1_score_group)"
   ]
  },
  {
   "cell_type": "markdown",
   "metadata": {},
   "source": [
    "# 8.K折交叉验证"
   ]
  },
  {
   "cell_type": "code",
   "execution_count": 13,
   "metadata": {},
   "outputs": [
    {
     "name": "stdout",
     "output_type": "stream",
     "text": [
      "              0         1\n",
      "0        KNN中k值  6.000000\n",
      "1   准确率accuracy  0.548154\n",
      "2  精确率precision  0.602660\n",
      "3     召回率recall  0.453566\n",
      "4      F1-score  0.516018\n",
      "5           AUC  0.555437\n"
     ]
    }
   ],
   "source": [
    "import numpy as np\n",
    "\n",
    "cv = 5 # cv表示把数据分为几份\n",
    "single_length =  round(len(df) / cv)\n",
    "accuracy_group = []\n",
    "precision_group = []\n",
    "recall_group = []\n",
    "F1_score_group = []\n",
    "AUC_group = []\n",
    "\n",
    "knn_k = 6\n",
    "\n",
    "for j in range(0, cv, 1):\n",
    "    df1 = pd.concat([df.iloc[0:(j * single_length), :], df.iloc[((j + 1) * single_length):, :]])\n",
    "    df2 = df.iloc[(j * single_length) : ((j + 1) * single_length), :]\n",
    "\n",
    "    # 打乱数据\n",
    "    df1 = df1.sample(len(df1), random_state=0)\n",
    "    df2 = df2.sample(len(df2), random_state=0)\n",
    "\n",
    "    train_X = df1.iloc[:, :-1]\n",
    "    train_y = df1.iloc[:,  -1]\n",
    "    test_X  = df2.iloc[:, :-1]\n",
    "    test_y  = df2.iloc[:,  -1]\n",
    "\n",
    "    # 模型初始化\n",
    "    knn_model = knn.knn(knn_k)\n",
    "    # 模型训练\n",
    "    knn_model.fit(train_X, train_y)\n",
    "    # 模型预测\n",
    "    prey = knn_model.predict(test_X)\n",
    "    temp_test_y = test_y.values # 从series转换为 n array\n",
    "\n",
    "    # 模型评估\n",
    "    TP = 0\n",
    "    FN = 0\n",
    "    FP = 0\n",
    "    TN = 0\n",
    "\n",
    "    # 统计\n",
    "    for i in range(len(prey)):\n",
    "        if prey[i] == temp_test_y[i]:\n",
    "            if prey[i] == 1:\n",
    "                TP = TP + 1\n",
    "            else:\n",
    "                TN = TN + 1\n",
    "        else:\n",
    "            if prey[i] == 1:\n",
    "                FP = FP + 1\n",
    "            else:\n",
    "                FN = FN + 1\n",
    "    accuracy = (TP + TN) / (TP + FP + TN + FN)\n",
    "    precision = TP / (TP + FP)\n",
    "    recall = TP / (TP + FN)\n",
    "    F1_score = (2 * precision * recall) / (precision + recall)\n",
    "    AUC = roc_auc_score(temp_test_y, prey)\n",
    "\n",
    "    accuracy_group.append(accuracy)\n",
    "    precision_group.append(precision)\n",
    "    recall_group.append(recall)\n",
    "    F1_score_group.append(F1_score)\n",
    "    AUC_group.append(AUC)\n",
    "\n",
    "# 记录并打印\n",
    "result = [\n",
    "    ['KNN中k值', knn_k],\n",
    "    ['准确率accuracy', np.mean(accuracy_group)],\n",
    "    ['精确率precision', np.mean(precision_group)],\n",
    "    ['召回率recall', np.mean(recall_group)],\n",
    "    ['F1-score', np.mean(F1_score_group)],\n",
    "    ['AUC', np.mean(AUC_group)]\n",
    "]\n",
    "result_out = pd.DataFrame(result)\n",
    "print(result_out)"
   ]
  },
  {
   "cell_type": "code",
   "execution_count": null,
   "metadata": {},
   "outputs": [],
   "source": []
  }
 ],
 "metadata": {
  "kernelspec": {
   "display_name": "Python 3 (ipykernel)",
   "language": "python",
   "name": "python3"
  },
  "language_info": {
   "codemirror_mode": {
    "name": "ipython",
    "version": 3
   },
   "file_extension": ".py",
   "mimetype": "text/x-python",
   "name": "python",
   "nbconvert_exporter": "python",
   "pygments_lexer": "ipython3",
   "version": "3.10.8"
  }
 },
 "nbformat": 4,
 "nbformat_minor": 1
}
