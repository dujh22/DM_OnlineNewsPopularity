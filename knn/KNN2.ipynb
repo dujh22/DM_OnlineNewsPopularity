{
 "cells": [
  {
   "cell_type": "code",
   "execution_count": null,
   "outputs": [],
   "source": [
    "# -*- coding:utf-8 -*-\n",
    "import pandas as pd\n",
    "import matplotlib.pyplot as plt\n",
    "\n",
    "from sklearn.metrics import roc_auc_score\n",
    "\n",
    "import knn"
   ],
   "metadata": {
    "collapsed": false
   }
  },
  {
   "cell_type": "markdown",
   "source": [
    "# 1.文件读取"
   ],
   "metadata": {
    "collapsed": false
   }
  },
  {
   "cell_type": "code",
   "execution_count": null,
   "outputs": [],
   "source": [
    "df = pd.read_csv('./OnlineNewsPopularity/OnlineNewsPopularity.csv', header=0) # header参数指定标题的行，默认为0.如果没有标题，则使用None"
   ],
   "metadata": {
    "collapsed": false
   }
  },
  {
   "cell_type": "code",
   "execution_count": null,
   "outputs": [],
   "source": [
    "print(df.head())"
   ],
   "metadata": {
    "collapsed": false
   }
  },
  {
   "cell_type": "code",
   "execution_count": null,
   "outputs": [],
   "source": [
    "df.columns"
   ],
   "metadata": {
    "collapsed": false
   }
  },
  {
   "cell_type": "markdown",
   "source": [
    "# 2.转化为二分类问题"
   ],
   "metadata": {
    "collapsed": false
   }
  },
  {
   "cell_type": "code",
   "execution_count": null,
   "outputs": [],
   "source": [
    "for i in range(len(df[' shares'])):\n",
    "    df.loc[i, ' shares'] = 0 if df[' shares'][i] < 1400 else 1"
   ],
   "metadata": {
    "collapsed": false
   }
  },
  {
   "cell_type": "markdown",
   "source": [
    "# 3.数据预处理"
   ],
   "metadata": {
    "collapsed": false
   }
  },
  {
   "cell_type": "code",
   "execution_count": null,
   "outputs": [],
   "source": [
    "# 去掉前两列与预测无关的数据\n",
    "df = df.drop(\"url\", axis=1)\n",
    "df = df.drop(\" timedelta\", axis=1)"
   ],
   "metadata": {
    "collapsed": false
   }
  },
  {
   "cell_type": "code",
   "execution_count": null,
   "outputs": [],
   "source": [
    "print(df.head())"
   ],
   "metadata": {
    "collapsed": false
   }
  },
  {
   "cell_type": "markdown",
   "source": [
    "# 4.划分训练集与测试集"
   ],
   "metadata": {
    "collapsed": false
   }
  },
  {
   "cell_type": "code",
   "execution_count": null,
   "outputs": [],
   "source": [
    "# 分配训练集和测试集（由于原文件已经按照时间远近进行了排序，所以需要先划分，后打乱）\n",
    "rate = 0.7 # 7:3\n",
    "midi = round(len(df) * 0.7)\n",
    "df1 = df.iloc[:midi, :]\n",
    "df2 = df.iloc[midi:, :]\n",
    "\n",
    "# 打乱数据\n",
    "df1 = df1.sample(len(df1), random_state=0)\n",
    "df2 = df2.sample(len(df2), random_state=0)\n",
    "\n",
    "train_X = df1.iloc[:, :-1]\n",
    "train_y = df1.iloc[:,  -1]\n",
    "test_X  = df2.iloc[:, :-1]\n",
    "test_y  = df2.iloc[:,  -1]"
   ],
   "metadata": {
    "collapsed": false
   }
  },
  {
   "cell_type": "markdown",
   "source": [
    "# 5. 数据归一化"
   ],
   "metadata": {
    "collapsed": false
   }
  },
  {
   "cell_type": "code",
   "execution_count": null,
   "outputs": [],
   "source": [
    "from sklearn.preprocessing import StandardScaler\n",
    "\n",
    "### 数据预处理\n",
    "## 分别对训练集、验证集和测试集进行数据标准化\n",
    "scaler = StandardScaler()\n",
    "train_X = scaler.fit_transform(train_X.squeeze())     # 训练集\n",
    "test_X = scaler.fit_transform(test_X.squeeze())       # 测试集"
   ],
   "metadata": {
    "collapsed": false
   }
  },
  {
   "cell_type": "markdown",
   "source": [
    "# 6.训练与测试"
   ],
   "metadata": {
    "collapsed": false
   }
  },
  {
   "cell_type": "code",
   "execution_count": null,
   "outputs": [],
   "source": [
    "# 模型初始化\n",
    "knn_k = 6\n",
    "knn_model = knn.knn(knn_k)\n",
    "# 模型训练\n",
    "knn_model.fit(train_X, train_y)\n",
    "# 模型预测\n",
    "prey = knn_model.predict(test_X)"
   ],
   "metadata": {
    "collapsed": false
   }
  },
  {
   "cell_type": "code",
   "execution_count": null,
   "outputs": [],
   "source": [
    "# 模型评估\n",
    "TP = 0 # 正例被预测为正例\n",
    "FN = 0 # 正例被预测为反例\n",
    "FP = 0 # 反例被预测为正例\n",
    "TN = 0 # 反例被预测为反例\n",
    "temp_test_y = test_y.values # 从series转换为 n array\n",
    "# 统计\n",
    "for i in range(len(prey)):\n",
    "    if prey[i] == temp_test_y[i]:\n",
    "        if prey[i] == 1:\n",
    "            TP = TP + 1\n",
    "        else:\n",
    "            TN = TN + 1\n",
    "    else:\n",
    "        if prey[i] == 1:\n",
    "            FP = FP + 1\n",
    "        else:\n",
    "            FN = FN + 1\n",
    "accuracy = (TP + TN) / (TP + FP + TN + FN)\n",
    "precision = TP / (TP + FP)\n",
    "recall = TP / (TP + FN)\n",
    "F1_score = (2 * precision * recall) / (precision + recall)\n",
    "AUC = roc_auc_score(temp_test_y, prey)\n",
    "\n",
    "# 记录并打印\n",
    "result = [\n",
    "    ['KNN中k值', knn_k],\n",
    "    ['准确率accuracy', accuracy],\n",
    "    ['精确率precision', precision],\n",
    "    ['召回率recall', recall],\n",
    "    ['F1-score', F1_score],\n",
    "    ['AUC', AUC]\n",
    "]\n",
    "result_out = pd.DataFrame(result)\n",
    "print(result_out)"
   ],
   "metadata": {
    "collapsed": false
   }
  },
  {
   "cell_type": "markdown",
   "source": [
    "# 7.K值的取得"
   ],
   "metadata": {
    "collapsed": false
   }
  },
  {
   "cell_type": "code",
   "execution_count": null,
   "outputs": [],
   "source": [
    "F1_score_group = []\n",
    "K_range = range(1, 20, 1)\n",
    "temp_test_y = test_y.values # 从series转换为 n array\n",
    "\n",
    "for kk in K_range:\n",
    "    knn_k = kk\n",
    "    knn_model = knn.knn(knn_k)\n",
    "    knn_model.fit(train_X, train_y)\n",
    "    prey = knn_model.predict(test_X)\n",
    "\n",
    "    TP = 0\n",
    "    FN = 0\n",
    "    FP = 0\n",
    "    TN = 0\n",
    "\n",
    "    for i in range(len(prey)):\n",
    "        if prey[i] == temp_test_y[i]:\n",
    "            if prey[i] == 1:\n",
    "                TP = TP + 1\n",
    "            else:\n",
    "                TN = TN + 1\n",
    "        else:\n",
    "            if prey[i] == 1:\n",
    "                FP = FP + 1\n",
    "            else:\n",
    "                FN = FN + 1\n",
    "    precision = TP / (TP + FP)\n",
    "    recall = TP / (TP + FN)\n",
    "    F1_score = (2 * precision * recall) / (precision + recall)\n",
    "\n",
    "    print(\"当前进度：%f\" %(kk / len(K_range)))\n",
    "    F1_score_group.append(F1_score)\n",
    "\n",
    "plt.plot(K_range, F1_score_group)"
   ],
   "metadata": {
    "collapsed": false
   }
  },
  {
   "cell_type": "markdown",
   "source": [
    "# 8.K折交叉验证"
   ],
   "metadata": {
    "collapsed": false
   }
  },
  {
   "cell_type": "code",
   "execution_count": 28,
   "outputs": [
    {
     "name": "stdout",
     "output_type": "stream",
     "text": [
      "              0         1\n",
      "0        KNN中k值  6.000000\n",
      "1   准确率accuracy  0.548154\n",
      "2  精确率precision  0.602660\n",
      "3     召回率recall  0.453566\n",
      "4      F1-score  0.516018\n",
      "5           AUC  0.555437\n"
     ]
    }
   ],
   "source": [
    "import numpy as np\n",
    "\n",
    "cv = 5 # cv表示把数据分为几份\n",
    "single_length =  round(len(df) / cv)\n",
    "accuracy_group = []\n",
    "precision_group = []\n",
    "recall_group = []\n",
    "F1_score_group = []\n",
    "AUC_group = []\n",
    "\n",
    "knn_k = 6\n",
    "\n",
    "for j in range(0, cv, 1):\n",
    "    df1 = pd.concat([df.iloc[0:(j * single_length), :], df.iloc[((j + 1) * single_length):, :]])\n",
    "    df2 = df.iloc[(j * single_length) : ((j + 1) * single_length), :]\n",
    "\n",
    "    # 打乱数据\n",
    "    df1 = df1.sample(len(df1), random_state=0)\n",
    "    df2 = df2.sample(len(df2), random_state=0)\n",
    "\n",
    "    train_X = df1.iloc[:, :-1]\n",
    "    train_y = df1.iloc[:,  -1]\n",
    "    test_X  = df2.iloc[:, :-1]\n",
    "    test_y  = df2.iloc[:,  -1]\n",
    "\n",
    "    # 模型初始化\n",
    "    knn_model = knn.knn(knn_k)\n",
    "    # 模型训练\n",
    "    knn_model.fit(train_X, train_y)\n",
    "    # 模型预测\n",
    "    prey = knn_model.predict(test_X)\n",
    "    temp_test_y = test_y.values # 从series转换为 n array\n",
    "\n",
    "    # 模型评估\n",
    "    TP = 0\n",
    "    FN = 0\n",
    "    FP = 0\n",
    "    TN = 0\n",
    "\n",
    "    # 统计\n",
    "    for i in range(len(prey)):\n",
    "        if prey[i] == temp_test_y[i]:\n",
    "            if prey[i] == 1:\n",
    "                TP = TP + 1\n",
    "            else:\n",
    "                TN = TN + 1\n",
    "        else:\n",
    "            if prey[i] == 1:\n",
    "                FP = FP + 1\n",
    "            else:\n",
    "                FN = FN + 1\n",
    "    accuracy = (TP + TN) / (TP + FP + TN + FN)\n",
    "    precision = TP / (TP + FP)\n",
    "    recall = TP / (TP + FN)\n",
    "    F1_score = (2 * precision * recall) / (precision + recall)\n",
    "    AUC = roc_auc_score(temp_test_y, prey)\n",
    "\n",
    "    accuracy_group.append(accuracy)\n",
    "    precision_group.append(precision)\n",
    "    recall_group.append(recall)\n",
    "    F1_score_group.append(F1_score)\n",
    "    AUC_group.append(AUC)\n",
    "\n",
    "# 记录并打印\n",
    "result = [\n",
    "    ['KNN中k值', knn_k],\n",
    "    ['准确率accuracy', np.mean(accuracy_group)],\n",
    "    ['精确率precision', np.mean(precision_group)],\n",
    "    ['召回率recall', np.mean(recall_group)],\n",
    "    ['F1-score', np.mean(F1_score_group)],\n",
    "    ['AUC', np.mean(AUC_group)]\n",
    "]\n",
    "result_out = pd.DataFrame(result)\n",
    "print(result_out)"
   ],
   "metadata": {
    "collapsed": false
   }
  },
  {
   "cell_type": "code",
   "execution_count": null,
   "outputs": [],
   "source": [],
   "metadata": {
    "collapsed": false
   }
  }
 ],
 "metadata": {
  "kernelspec": {
   "display_name": "Python 3",
   "language": "python",
   "name": "python3"
  },
  "language_info": {
   "codemirror_mode": {
    "name": "ipython",
    "version": 2
   },
   "file_extension": ".py",
   "mimetype": "text/x-python",
   "name": "python",
   "nbconvert_exporter": "python",
   "pygments_lexer": "ipython2",
   "version": "2.7.6"
  }
 },
 "nbformat": 4,
 "nbformat_minor": 0
}
