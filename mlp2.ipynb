{
 "cells": [
  {
   "cell_type": "code",
   "execution_count": 12,
   "metadata": {},
   "outputs": [],
   "source": [
    "import time\n",
    "import numpy as np\n",
    "import pandas as pd\n",
    "import matplotlib.pyplot as plt\n",
    "from sklearn.model_selection import StratifiedKFold\n",
    "from sklearn.model_selection import GridSearchCV\n",
    "from sklearn.model_selection import train_test_split\n",
    "from sklearn.metrics import confusion_matrix, accuracy_score, precision_score\n",
    "from sklearn.metrics import recall_score, f1_score, roc_auc_score\n",
    "from sklearn.preprocessing import StandardScaler\n",
    "from sklearn.neural_network import MLPClassifier\n",
    "import itertools\n",
    "from sklearn.pipeline import Pipeline"
   ]
  },
  {
   "cell_type": "code",
   "execution_count": 10,
   "metadata": {},
   "outputs": [],
   "source": [
    "# 导入数据\n",
    "df = pd.read_csv('./OnlineNewsPopularity/OnlineNewsPopularity.csv')\n",
    "keys = np.array(df.columns)\n",
    "dic = {}\n",
    "for colname in df:\n",
    "    arr = df.loc[:,colname].values\n",
    "    dic[colname] = arr\n",
    "dic[keys[-1]] = dic[keys[-1]] > 1400\n",
    "\n",
    "# 构建数据集与标签集\n",
    "data_set = dic[keys[1]].reshape(-1,1)\n",
    "for i in range(2,len(keys)-1):\n",
    "    data_set = np.append(data_set, dic[keys[i]].reshape(-1,1), axis = 1)\n",
    "label_set = dic[keys[-1]]\n",
    "data_set = data_set[np.lexsort(-data_set.T[0, None])]\n",
    "\n",
    "# 数据集划分\n",
    "scaler = StandardScaler()\n",
    "x_train, x_test, y_train, y_test = train_test_split(data_set, label_set, test_size=0.3, shuffle= False)\n",
    "xx_train, xx_val, yy_train, yy_val = train_test_split(x_train, y_train, test_size=0.2, shuffle= False)\n",
    "\n",
    "xx_train = scaler.fit_transform(xx_train)\n",
    "xx_val = scaler.fit_transform(xx_val)"
   ]
  },
  {
   "cell_type": "code",
   "execution_count": 7,
   "metadata": {},
   "outputs": [],
   "source": [
    "### 依据Fisher准则进行特征选择\n",
    "J_fisher = []\n",
    "feature_num = [5, 10, 20, 30, 40, 50, xx_train.shape[1]]\n",
    "Model = MLPClassifier(solver= 'adam', activation= 'relu', \n",
    "        batch_size= 64, learning_rate= 'adaptive', shuffle= True,\n",
    "        alpha= 0.1, hidden_layer_sizes= 50, learning_rate_init= 1e-4, max_iter=1000)\n",
    "\n",
    "# 基于样本类别进行分类\n",
    "idx_0 = np.argwhere(yy_train == False)\n",
    "idx_1 = np.argwhere(yy_train == True)\n",
    "X_train_0 = np.mat(xx_train[idx_0])\n",
    "X_train_1 = np.mat(xx_train[idx_1])\n",
    "\n",
    "# 基于类内类间距离的判据 and 基于最大信息系数的判据\n",
    "for i in range(xx_train.shape[1]):\n",
    "    mu_0 = np.mean(X_train_0[:,i])\n",
    "    mu_1 = np.mean(X_train_1[:,i])\n",
    "    sigma_0 = np.var(X_train_0[:,i])\n",
    "    sigma_1 = np.var(X_train_1[:,i])\n",
    "    J = (mu_0 - mu_1)**2/(sigma_0**2 + sigma_1**2)\n",
    "    J_fisher.append(J)"
   ]
  },
  {
   "cell_type": "code",
   "execution_count": 8,
   "metadata": {},
   "outputs": [
    {
     "name": "stdout",
     "output_type": "stream",
     "text": [
      "5 features, train acc： 0.6077027027027027\n",
      "5 features, val acc： 0.6270270270270271\n",
      "5 features index [17 40 15 37 26]\n",
      "10 features, train acc： 0.626981981981982\n",
      "10 features, val acc： 0.6572972972972972\n",
      "10 features index [ 6 36 24 13 35 17 40 15 37 26]\n",
      "20 features, train acc： 0.6504054054054054\n",
      "20 features, val acc： 0.6722522522522523\n",
      "20 features index [27 39 18  5 29  3  2 42 16 43  6 36 24 13 35 17 40 15 37 26]\n",
      "30 features, train acc： 0.6613513513513514\n",
      "30 features, val acc： 0.6686486486486487\n",
      "30 features index [ 8 58 32 44 51 38  1 28 56 25 27 39 18  5 29  3  2 42 16 43  6 36 24 13\n",
      " 35 17 40 15 37 26]\n",
      "40 features, train acc： 0.6758108108108108\n",
      "40 features, val acc： 0.6724324324324324\n",
      "40 features index [55 48 53 50 41 20 14 45 31 22  8 58 32 44 51 38  1 28 56 25 27 39 18  5\n",
      " 29  3  2 42 16 43  6 36 24 13 35 17 40 15 37 26]\n",
      "50 features, train acc： 0.69\n",
      "50 features, val acc： 0.665045045045045\n",
      "50 features index [57  9 30 47 19 49 33 12 10  0 55 48 53 50 41 20 14 45 31 22  8 58 32 44\n",
      " 51 38  1 28 56 25 27 39 18  5 29  3  2 42 16 43  6 36 24 13 35 17 40 15\n",
      " 37 26]\n",
      "59 features, train acc： 0.7054954954954955\n",
      "59 features, val acc： 0.6468468468468469\n",
      "59 features index [54 34 46 21  4 23 52 11  7 57  9 30 47 19 49 33 12 10  0 55 48 53 50 41\n",
      " 20 14 45 31 22  8 58 32 44 51 38  1 28 56 25 27 39 18  5 29  3  2 42 16\n",
      " 43  6 36 24 13 35 17 40 15 37 26]\n"
     ]
    }
   ],
   "source": [
    "# 根据目标特征数进行选择\n",
    "for i in feature_num:\n",
    "    feature_f = []\n",
    "    J_f = np.argsort(J_fisher)\n",
    "    feature_f = J_f[-i:]\n",
    "\n",
    "    #计算准确率\n",
    "    X_train_fselected = xx_train[:,feature_f]\n",
    "    X_test_fselected = xx_val[:,feature_f]\n",
    "    Model.fit(X_train_fselected, yy_train)\n",
    "    Y_pred_f_v = Model.predict(X_test_fselected)\n",
    "    Y_pred_f_t = Model.predict(X_train_fselected)\n",
    "    acc_f_v = accuracy_score(Y_pred_f_v, yy_val)\n",
    "    acc_f_t = accuracy_score(Y_pred_f_t, yy_train)\n",
    "\n",
    "    print(str(i),\"features, train acc：\", acc_f_t)\n",
    "    print(str(i),\"features, val acc：\", acc_f_v)\n",
    "    print(str(i),\"features index\",feature_f)"
   ]
  },
  {
   "cell_type": "code",
   "execution_count": 11,
   "metadata": {},
   "outputs": [],
   "source": [
    "feature = J_f[-40:]\n",
    "x_train = x_train[:,feature]\n",
    "x_test = x_test[:,feature]"
   ]
  },
  {
   "cell_type": "code",
   "execution_count": 13,
   "metadata": {},
   "outputs": [
    {
     "name": "stdout",
     "output_type": "stream",
     "text": [
      "Fitting 5 folds for each of 60 candidates, totalling 300 fits\n",
      "best params:  {'mlp__alpha': 0.1, 'mlp__hidden_layer_sizes': 50, 'mlp__learning_rate_init': 0.0001}\n",
      "best score:  0.6529369369369369\n"
     ]
    }
   ],
   "source": [
    "### 模型训练\n",
    "\n",
    "#k折分层抽样\n",
    "skf = StratifiedKFold(n_splits=5,shuffle=True,random_state=233)\n",
    "\n",
    "#实例化svm模型，网格化参数精细调参\n",
    "params = {'mlp__alpha': [1e-3, 1e-2, 1e-1, 1], 'mlp__hidden_layer_sizes': [10, 20, 30, 40, 50], 'mlp__learning_rate_init': [1e-4, 1e-3, 1e-2]}\n",
    "clf = Pipeline([('ss', StandardScaler()), ('mlp', MLPClassifier(solver= 'adam', activation= 'relu', batch_size= 64, learning_rate= 'adaptive', shuffle= True, max_iter= 1000))])\n",
    "scores = ('accuracy', 'precision', 'f1', 'recall', 'roc_auc')\n",
    "gs = GridSearchCV(clf, params, refit= 'accuracy', verbose= 1, cv= skf, scoring= scores)\n",
    "gs.fit(x_train, y_train)\n",
    "print('best params: ',gs.best_params_)\n",
    "print('best score: ', gs.best_score_)"
   ]
  },
  {
   "cell_type": "code",
   "execution_count": 14,
   "metadata": {},
   "outputs": [],
   "source": [
    "np.save('./result/mlp_cv_results_1219_60.npy', gs.cv_results_)"
   ]
  },
  {
   "cell_type": "code",
   "execution_count": 16,
   "metadata": {},
   "outputs": [],
   "source": [
    "## 依次比较五项评价指标结果\n",
    "res = gs.cv_results_\n",
    "idx = {}"
   ]
  },
  {
   "cell_type": "code",
   "execution_count": 25,
   "metadata": {},
   "outputs": [
    {
     "name": "stdout",
     "output_type": "stream",
     "text": [
      "test_accuracy 0.6529369369369369\n",
      "{'mlp__alpha': 0.1, 'mlp__hidden_layer_sizes': 50, 'mlp__learning_rate_init': 0.0001}\n",
      "test_precision 0.6529369369369369\n",
      "{'mlp__alpha': 0.1, 'mlp__hidden_layer_sizes': 50, 'mlp__learning_rate_init': 0.0001}\n",
      "test_f1 0.6442522522522524\n",
      "{'mlp__alpha': 0.1, 'mlp__hidden_layer_sizes': 40, 'mlp__learning_rate_init': 0.01}\n",
      "test_recall 0.6442522522522524\n",
      "{'mlp__alpha': 0.1, 'mlp__hidden_layer_sizes': 40, 'mlp__learning_rate_init': 0.01}\n",
      "test_roc_auc 0.6529369369369369\n",
      "{'mlp__alpha': 0.1, 'mlp__hidden_layer_sizes': 50, 'mlp__learning_rate_init': 0.0001}\n"
     ]
    }
   ],
   "source": [
    "# 比较结果\n",
    "# res = gs.cv_results_\n",
    "# idx = {}\n",
    "\n",
    "key = 'test_accuracy'\n",
    "#print(res[\"mean_\" + key])\n",
    "idx[key] = np.argmax(res[\"mean_\" + key])\n",
    "for k in idx:\n",
    "    print(k, res[\"mean_\" + key][idx[k]])\n",
    "    print(gs.cv_results_['params'][idx[k]])"
   ]
  },
  {
   "cell_type": "code",
   "execution_count": 24,
   "metadata": {},
   "outputs": [
    {
     "name": "stdout",
     "output_type": "stream",
     "text": [
      "test_accuracy 0.6619669021328022\n",
      "{'mlp__alpha': 0.1, 'mlp__hidden_layer_sizes': 50, 'mlp__learning_rate_init': 0.0001}\n",
      "test_precision 0.6619669021328022\n",
      "{'mlp__alpha': 0.1, 'mlp__hidden_layer_sizes': 50, 'mlp__learning_rate_init': 0.0001}\n",
      "test_f1 0.6375926312566954\n",
      "{'mlp__alpha': 0.1, 'mlp__hidden_layer_sizes': 40, 'mlp__learning_rate_init': 0.01}\n",
      "test_recall 0.6375926312566954\n",
      "{'mlp__alpha': 0.1, 'mlp__hidden_layer_sizes': 40, 'mlp__learning_rate_init': 0.01}\n",
      "test_roc_auc 0.6619669021328022\n",
      "{'mlp__alpha': 0.1, 'mlp__hidden_layer_sizes': 50, 'mlp__learning_rate_init': 0.0001}\n"
     ]
    }
   ],
   "source": [
    "# 比较结果\n",
    "key = 'test_precision'\n",
    "#print(res[\"mean_\" + key])\n",
    "idx[key] = np.argmax(res[\"mean_\" + key])\n",
    "for k in idx:\n",
    "    print(k, res[\"mean_\" + key][idx[k]])\n",
    "    print(gs.cv_results_['params'][idx[k]])"
   ]
  },
  {
   "cell_type": "code",
   "execution_count": 23,
   "metadata": {},
   "outputs": [
    {
     "name": "stdout",
     "output_type": "stream",
     "text": [
      "test_accuracy 0.6567871734997899\n",
      "{'mlp__alpha': 0.1, 'mlp__hidden_layer_sizes': 50, 'mlp__learning_rate_init': 0.0001}\n",
      "test_precision 0.6567871734997899\n",
      "{'mlp__alpha': 0.1, 'mlp__hidden_layer_sizes': 50, 'mlp__learning_rate_init': 0.0001}\n",
      "test_f1 0.6675252629917662\n",
      "{'mlp__alpha': 0.1, 'mlp__hidden_layer_sizes': 40, 'mlp__learning_rate_init': 0.01}\n",
      "test_recall 0.6675252629917662\n",
      "{'mlp__alpha': 0.1, 'mlp__hidden_layer_sizes': 40, 'mlp__learning_rate_init': 0.01}\n",
      "test_roc_auc 0.6567871734997899\n",
      "{'mlp__alpha': 0.1, 'mlp__hidden_layer_sizes': 50, 'mlp__learning_rate_init': 0.0001}\n"
     ]
    }
   ],
   "source": [
    "# 比较结果\n",
    "key = 'test_f1'\n",
    "#print(res[\"mean_\" + key])\n",
    "idx[key] = np.argmax(res[\"mean_\" + key])\n",
    "for k in idx:\n",
    "    print(k, res[\"mean_\" + key][idx[k]])\n",
    "    print(gs.cv_results_['params'][idx[k]])"
   ]
  },
  {
   "cell_type": "code",
   "execution_count": 22,
   "metadata": {},
   "outputs": [
    {
     "name": "stdout",
     "output_type": "stream",
     "text": [
      "test_accuracy 0.6517680339462517\n",
      "{'mlp__alpha': 0.1, 'mlp__hidden_layer_sizes': 50, 'mlp__learning_rate_init': 0.0001}\n",
      "test_precision 0.6517680339462517\n",
      "{'mlp__alpha': 0.1, 'mlp__hidden_layer_sizes': 50, 'mlp__learning_rate_init': 0.0001}\n",
      "test_f1 0.7012729844413013\n",
      "{'mlp__alpha': 0.1, 'mlp__hidden_layer_sizes': 40, 'mlp__learning_rate_init': 0.01}\n",
      "test_recall 0.7012729844413013\n",
      "{'mlp__alpha': 0.1, 'mlp__hidden_layer_sizes': 40, 'mlp__learning_rate_init': 0.01}\n",
      "test_roc_auc 0.6517680339462517\n",
      "{'mlp__alpha': 0.1, 'mlp__hidden_layer_sizes': 50, 'mlp__learning_rate_init': 0.0001}\n"
     ]
    }
   ],
   "source": [
    "# 比较结果\n",
    "key = 'test_recall'\n",
    "#print(res[\"mean_\" + key])\n",
    "idx[key] = np.argmax(res[\"mean_\" + key])\n",
    "for k in idx:\n",
    "    print(k, res[\"mean_\" + key][idx[k]])\n",
    "    print(gs.cv_results_['params'][idx[k]])"
   ]
  },
  {
   "cell_type": "code",
   "execution_count": 21,
   "metadata": {},
   "outputs": [
    {
     "name": "stdout",
     "output_type": "stream",
     "text": [
      "test_accuracy 0.7078663090933844\n",
      "{'mlp__alpha': 0.1, 'mlp__hidden_layer_sizes': 50, 'mlp__learning_rate_init': 0.0001}\n",
      "test_precision 0.7078663090933844\n",
      "{'mlp__alpha': 0.1, 'mlp__hidden_layer_sizes': 50, 'mlp__learning_rate_init': 0.0001}\n",
      "test_f1 0.6987104913913245\n",
      "{'mlp__alpha': 0.1, 'mlp__hidden_layer_sizes': 40, 'mlp__learning_rate_init': 0.01}\n",
      "test_recall 0.6987104913913245\n",
      "{'mlp__alpha': 0.1, 'mlp__hidden_layer_sizes': 40, 'mlp__learning_rate_init': 0.01}\n",
      "test_roc_auc 0.7078663090933844\n",
      "{'mlp__alpha': 0.1, 'mlp__hidden_layer_sizes': 50, 'mlp__learning_rate_init': 0.0001}\n"
     ]
    }
   ],
   "source": [
    "# 比较结果\n",
    "key = 'test_roc_auc'\n",
    "#print(res[\"mean_\" + key])\n",
    "idx[key] = np.argmax(res[\"mean_\" + key])\n",
    "for k in idx:\n",
    "    print(k, res[\"mean_\" + key][idx[k]])\n",
    "    print(gs.cv_results_['params'][idx[k]])"
   ]
  },
  {
   "cell_type": "code",
   "execution_count": 27,
   "metadata": {},
   "outputs": [],
   "source": [
    "### 模型预测\n",
    "x_train = scaler.fit_transform(x_train)\n",
    "x_test = scaler.fit_transform(x_test)\n",
    "model1 = MLPClassifier(solver= 'adam', activation= 'relu', batch_size= 64, learning_rate= 'adaptive', shuffle= True, max_iter= 1000,\n",
    "                alpha= 0.1, hidden_layer_sizes= 50, learning_rate_init= 1e-4)\n",
    "model1.fit(x_train, y_train)\n",
    "y_pred1 = model1.predict(x_test)"
   ]
  },
  {
   "cell_type": "code",
   "execution_count": 30,
   "metadata": {},
   "outputs": [],
   "source": [
    "# 绘制混淆矩阵\n",
    "def plot_confusion_matrix(cm, labels_name, title):\n",
    "    plt.figure(figsize=(15,8),dpi=100)\n",
    "    plt.subplot(1,2,1)\n",
    "    plt.imshow(cm,interpolation='nearest',cmap=plt.cm.Blues)    # 在特定的窗口上显示图像\n",
    "    plt.title(title)    # 图像标题\n",
    "    plt.colorbar()\n",
    "    num_local = np.array(range(len(labels_name)))    \n",
    "    plt.xticks(num_local, labels_name, rotation=90)    # 将标签印在x轴坐标上\n",
    "    plt.yticks(num_local, labels_name)    # 将标签印在y轴坐标上\n",
    "    thresh = cm.max() / 2.\n",
    "    for i, j in itertools.product(range(cm.shape[0]), range(cm.shape[1])):\n",
    "        num = '{}'.format(cm[i, j])\n",
    "        plt.text(j, i, num,\n",
    "                 verticalalignment='center',\n",
    "                 horizontalalignment=\"center\",\n",
    "                 color=\"white\" if int(num) > thresh else \"black\")\n",
    "    plt.ylabel('True label')    \n",
    "    plt.xlabel('Predicted label')\n",
    "\n",
    "    \n",
    "    plt.subplot(1,2,2)\n",
    "    cm = cm.astype('float') / cm.sum(axis=1)[:, np.newaxis]    # 归一化\n",
    "    plt.imshow(cm,interpolation='nearest',cmap=plt.cm.Blues)    # 在特定的窗口上显示图像\n",
    "    plt.title(title)    # 图像标题\n",
    "    plt.colorbar()\n",
    "    num_local = np.array(range(len(labels_name)))    \n",
    "    plt.xticks(num_local, labels_name, rotation=90)    # 将标签印在x轴坐标上\n",
    "    plt.yticks(num_local, labels_name)    # 将标签印在y轴坐标上\n",
    "    thresh = cm.max() / 2.\n",
    "    for i, j in itertools.product(range(cm.shape[0]), range(cm.shape[1])):\n",
    "        num = '{:.2f}'.format(cm[i, j])\n",
    "        plt.text(j, i, num,\n",
    "                 verticalalignment='center',\n",
    "                 horizontalalignment=\"center\",\n",
    "                 color=\"white\" if float(num) > thresh else \"black\")\n",
    "    plt.ylabel('True label')    \n",
    "    plt.xlabel('Predicted label')\n",
    "# 混淆矩阵绘制代码来源以下两篇博客：\n",
    "# https://blog.csdn.net/kane7csdn/article/details/83756583\n",
    "# https://blog.csdn.net/qq_18617009/article/details/103345308"
   ]
  },
  {
   "cell_type": "code",
   "execution_count": 31,
   "metadata": {},
   "outputs": [
    {
     "data": {
      "image/png": "[encoded data removed]",
      "text/plain": [
       "<Figure size 1500x800 with 4 Axes>"
      ]
     },
     "metadata": {},
     "output_type": "display_data"
    },
    {
     "name": "stdout",
     "output_type": "stream",
     "text": [
      "acc: 0.6592399529174373\n",
      "pre: 0.6113189136444951\n",
      "recall: 0.6932866101069716\n",
      "f1: 0.6497277676950999\n",
      "AUCf1: 0.6620017722969963\n"
     ]
    }
   ],
   "source": [
    "# 结果可视化\n",
    "cm = confusion_matrix(y_test, y_pred1)\n",
    "labels_name = ['popular','unpopular']\n",
    "plot_confusion_matrix(cm, labels_name, \"Confusion Matrix Model 1\")\n",
    "plt.show()\n",
    "print(\"acc: \" + str(accuracy_score(y_test, y_pred1)))\n",
    "print(\"pre: \" + str(precision_score(y_test, y_pred1)))\n",
    "print(\"recall: \" + str(recall_score(y_test, y_pred1)))\n",
    "print(\"f1: \" + str(f1_score(y_test, y_pred1)))\n",
    "print(\"AUCf1: \" + str(roc_auc_score(y_test, y_pred1)))"
   ]
  }
 ],
 "metadata": {
  "kernelspec": {
   "display_name": "Python 3.8.13 ('jupyter')",
   "language": "python",
   "name": "python3"
  },
  "language_info": {
   "codemirror_mode": {
    "name": "ipython",
    "version": 3
   },
   "file_extension": ".py",
   "mimetype": "text/x-python",
   "name": "python",
   "nbconvert_exporter": "python",
   "pygments_lexer": "ipython3",
   "version": "3.8.15 (default, Nov 24 2022, 14:38:14) [MSC v.1916 64 bit (AMD64)]"
  },
  "orig_nbformat": 4,
  "vscode": {
   "interpreter": {
    "hash": "94186ee46dd20d9135eb93318a31c12944db0bab97754bb10895fc1a10cecd0e"
   }
  }
 },
 "nbformat": 4,
 "nbformat_minor": 2
}
